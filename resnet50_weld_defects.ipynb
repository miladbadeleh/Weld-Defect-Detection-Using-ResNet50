{
 "cells": [
  {
   "cell_type": "code",
   "execution_count": 1,
   "metadata": {},
   "outputs": [
    {
     "name": "stdout",
     "output_type": "stream",
     "text": [
      "Using device: cuda\n"
     ]
    },
    {
     "name": "stderr",
     "output_type": "stream",
     "text": [
      "C:\\Users\\MSI\\AppData\\Local\\Packages\\PythonSoftwareFoundation.Python.3.12_qbz5n2kfra8p0\\LocalCache\\local-packages\\Python312\\site-packages\\torchvision\\models\\_utils.py:208: UserWarning: The parameter 'pretrained' is deprecated since 0.13 and may be removed in the future, please use 'weights' instead.\n",
      "  warnings.warn(\n",
      "C:\\Users\\MSI\\AppData\\Local\\Packages\\PythonSoftwareFoundation.Python.3.12_qbz5n2kfra8p0\\LocalCache\\local-packages\\Python312\\site-packages\\torchvision\\models\\_utils.py:223: UserWarning: Arguments other than a weight enum or `None` for 'weights' are deprecated since 0.13 and may be removed in the future. The current behavior is equivalent to passing `weights=ResNet50_Weights.IMAGENET1K_V1`. You can also use `weights=ResNet50_Weights.DEFAULT` to get the most up-to-date weights.\n",
      "  warnings.warn(msg)\n",
      "Epoch [1/10] Training: 100%|\u001b[38;2;0;255;0m██████████\u001b[0m| 1350/1350 [02:06<00:00, 10.64it/s, accuracy=86.4, loss=0.018]\n"
     ]
    },
    {
     "name": "stdout",
     "output_type": "stream",
     "text": [
      "Epoch [1/10], Train Loss: 0.3115, Train Acc: 86.37%\n"
     ]
    },
    {
     "name": "stderr",
     "output_type": "stream",
     "text": [
      "Epoch [1/10] Validation: 100%|\u001b[38;2;255;255;0m██████████\u001b[0m| 290/290 [00:16<00:00, 17.99it/s, accuracy=84.7, loss=0.0134]  \n"
     ]
    },
    {
     "name": "stdout",
     "output_type": "stream",
     "text": [
      "Epoch [1/10], Val Loss: 0.5712, Val Acc: 84.66%\n"
     ]
    },
    {
     "name": "stderr",
     "output_type": "stream",
     "text": [
      "Epoch [2/10] Training: 100%|\u001b[38;2;0;255;0m██████████\u001b[0m| 1350/1350 [02:28<00:00,  9.06it/s, accuracy=87.8, loss=0.0317]\n"
     ]
    },
    {
     "name": "stdout",
     "output_type": "stream",
     "text": [
      "Epoch [2/10], Train Loss: 0.2743, Train Acc: 87.78%\n"
     ]
    },
    {
     "name": "stderr",
     "output_type": "stream",
     "text": [
      "Epoch [2/10] Validation: 100%|\u001b[38;2;255;255;0m██████████\u001b[0m| 290/290 [00:23<00:00, 12.33it/s, accuracy=86.1, loss=0.00249] \n"
     ]
    },
    {
     "name": "stdout",
     "output_type": "stream",
     "text": [
      "Epoch [2/10], Val Loss: 0.4325, Val Acc: 86.13%\n"
     ]
    },
    {
     "name": "stderr",
     "output_type": "stream",
     "text": [
      "Epoch [3/10] Training: 100%|\u001b[38;2;0;255;0m██████████\u001b[0m| 1350/1350 [04:33<00:00,  4.94it/s, accuracy=88.6, loss=0.034] \n"
     ]
    },
    {
     "name": "stdout",
     "output_type": "stream",
     "text": [
      "Epoch [3/10], Train Loss: 0.2567, Train Acc: 88.58%\n"
     ]
    },
    {
     "name": "stderr",
     "output_type": "stream",
     "text": [
      "Epoch [3/10] Validation: 100%|\u001b[38;2;255;255;0m██████████\u001b[0m| 290/290 [00:23<00:00, 12.41it/s, accuracy=86.8, loss=0.175]  \n"
     ]
    },
    {
     "name": "stdout",
     "output_type": "stream",
     "text": [
      "Epoch [3/10], Val Loss: 0.2847, Val Acc: 86.76%\n"
     ]
    },
    {
     "name": "stderr",
     "output_type": "stream",
     "text": [
      "Epoch [4/10] Training: 100%|\u001b[38;2;0;255;0m██████████\u001b[0m| 1350/1350 [04:01<00:00,  5.59it/s, accuracy=89, loss=2.93]   \n"
     ]
    },
    {
     "name": "stdout",
     "output_type": "stream",
     "text": [
      "Epoch [4/10], Train Loss: 0.2493, Train Acc: 89.02%\n"
     ]
    },
    {
     "name": "stderr",
     "output_type": "stream",
     "text": [
      "Epoch [4/10] Validation: 100%|\u001b[38;2;255;255;0m██████████\u001b[0m| 290/290 [00:23<00:00, 12.45it/s, accuracy=88.3, loss=0.14]  \n"
     ]
    },
    {
     "name": "stdout",
     "output_type": "stream",
     "text": [
      "Epoch [4/10], Val Loss: 0.2694, Val Acc: 88.31%\n"
     ]
    },
    {
     "name": "stderr",
     "output_type": "stream",
     "text": [
      "Epoch [5/10] Training: 100%|\u001b[38;2;0;255;0m██████████\u001b[0m| 1350/1350 [04:29<00:00,  5.01it/s, accuracy=89, loss=0.0451]  \n"
     ]
    },
    {
     "name": "stdout",
     "output_type": "stream",
     "text": [
      "Epoch [5/10], Train Loss: 0.2468, Train Acc: 89.01%\n"
     ]
    },
    {
     "name": "stderr",
     "output_type": "stream",
     "text": [
      "Epoch [5/10] Validation: 100%|\u001b[38;2;255;255;0m██████████\u001b[0m| 290/290 [00:23<00:00, 12.41it/s, accuracy=88.6, loss=0.0414]  \n"
     ]
    },
    {
     "name": "stdout",
     "output_type": "stream",
     "text": [
      "Epoch [5/10], Val Loss: 0.2644, Val Acc: 88.58%\n"
     ]
    },
    {
     "name": "stderr",
     "output_type": "stream",
     "text": [
      "Epoch [6/10] Training: 100%|\u001b[38;2;0;255;0m██████████\u001b[0m| 1350/1350 [04:04<00:00,  5.52it/s, accuracy=89.4, loss=0.00349]\n"
     ]
    },
    {
     "name": "stdout",
     "output_type": "stream",
     "text": [
      "Epoch [6/10], Train Loss: 0.2344, Train Acc: 89.41%\n"
     ]
    },
    {
     "name": "stderr",
     "output_type": "stream",
     "text": [
      "Epoch [6/10] Validation: 100%|\u001b[38;2;255;255;0m██████████\u001b[0m| 290/290 [00:23<00:00, 12.54it/s, accuracy=89.7, loss=0.228]   \n"
     ]
    },
    {
     "name": "stdout",
     "output_type": "stream",
     "text": [
      "Epoch [6/10], Val Loss: 0.2457, Val Acc: 89.74%\n"
     ]
    },
    {
     "name": "stderr",
     "output_type": "stream",
     "text": [
      "Epoch [7/10] Training: 100%|\u001b[38;2;0;255;0m██████████\u001b[0m| 1350/1350 [04:22<00:00,  5.14it/s, accuracy=89.6, loss=3.6]   \n"
     ]
    },
    {
     "name": "stdout",
     "output_type": "stream",
     "text": [
      "Epoch [7/10], Train Loss: 0.2318, Train Acc: 89.65%\n"
     ]
    },
    {
     "name": "stderr",
     "output_type": "stream",
     "text": [
      "Epoch [7/10] Validation: 100%|\u001b[38;2;255;255;0m██████████\u001b[0m| 290/290 [00:23<00:00, 12.47it/s, accuracy=88.5, loss=0.125]  \n"
     ]
    },
    {
     "name": "stdout",
     "output_type": "stream",
     "text": [
      "Epoch [7/10], Val Loss: 0.2753, Val Acc: 88.45%\n"
     ]
    },
    {
     "name": "stderr",
     "output_type": "stream",
     "text": [
      "Epoch [8/10] Training: 100%|\u001b[38;2;0;255;0m██████████\u001b[0m| 1350/1350 [04:23<00:00,  5.13it/s, accuracy=89.7, loss=0.003] \n"
     ]
    },
    {
     "name": "stdout",
     "output_type": "stream",
     "text": [
      "Epoch [8/10], Train Loss: 0.2282, Train Acc: 89.70%\n"
     ]
    },
    {
     "name": "stderr",
     "output_type": "stream",
     "text": [
      "Epoch [8/10] Validation: 100%|\u001b[38;2;255;255;0m██████████\u001b[0m| 290/290 [00:23<00:00, 12.49it/s, accuracy=90, loss=0.183]    \n"
     ]
    },
    {
     "name": "stdout",
     "output_type": "stream",
     "text": [
      "Epoch [8/10], Val Loss: 0.2238, Val Acc: 90.03%\n"
     ]
    },
    {
     "name": "stderr",
     "output_type": "stream",
     "text": [
      "Epoch [9/10] Training: 100%|\u001b[38;2;0;255;0m██████████\u001b[0m| 1350/1350 [02:06<00:00, 10.63it/s, accuracy=90.2, loss=5.01]  \n"
     ]
    },
    {
     "name": "stdout",
     "output_type": "stream",
     "text": [
      "Epoch [9/10], Train Loss: 0.2206, Train Acc: 90.22%\n"
     ]
    },
    {
     "name": "stderr",
     "output_type": "stream",
     "text": [
      "Epoch [9/10] Validation: 100%|\u001b[38;2;255;255;0m██████████\u001b[0m| 290/290 [00:12<00:00, 22.78it/s, accuracy=89.8, loss=0.222] \n"
     ]
    },
    {
     "name": "stdout",
     "output_type": "stream",
     "text": [
      "Epoch [9/10], Val Loss: 0.2370, Val Acc: 89.75%\n"
     ]
    },
    {
     "name": "stderr",
     "output_type": "stream",
     "text": [
      "Epoch [10/10] Training: 100%|\u001b[38;2;0;255;0m██████████\u001b[0m| 1350/1350 [01:59<00:00, 11.32it/s, accuracy=90.4, loss=0.0189]\n"
     ]
    },
    {
     "name": "stdout",
     "output_type": "stream",
     "text": [
      "Epoch [10/10], Train Loss: 0.2138, Train Acc: 90.40%\n"
     ]
    },
    {
     "name": "stderr",
     "output_type": "stream",
     "text": [
      "Epoch [10/10] Validation: 100%|\u001b[38;2;255;255;0m██████████\u001b[0m| 290/290 [00:12<00:00, 22.58it/s, accuracy=89.8, loss=0.285]  \n"
     ]
    },
    {
     "name": "stdout",
     "output_type": "stream",
     "text": [
      "Epoch [10/10], Val Loss: 0.2233, Val Acc: 89.77%\n",
      "Training complete.\n",
      "Model saved to resnet50_weld_defects_model.pth\n"
     ]
    },
    {
     "name": "stderr",
     "output_type": "stream",
     "text": [
      "Testing: 100%|\u001b[38;2;255;0;0m██████████\u001b[0m| 290/290 [00:13<00:00, 21.95it/s, accuracy=90, loss=0.0409]   "
     ]
    },
    {
     "name": "stdout",
     "output_type": "stream",
     "text": [
      "Test Loss: 0.2215, Test Acc: 89.97%\n"
     ]
    },
    {
     "name": "stderr",
     "output_type": "stream",
     "text": [
      "\n"
     ]
    }
   ],
   "source": [
    "import os\n",
    "import torch\n",
    "import torch.nn as nn\n",
    "import torch.nn.functional as F\n",
    "from torchvision import datasets, transforms\n",
    "from torch.utils.data import DataLoader\n",
    "from tqdm import tqdm\n",
    "import matplotlib.pyplot as plt\n",
    "\n",
    "# Check if GPU is available\n",
    "device = torch.device(\"cuda\" if torch.cuda.is_available() else \"cpu\")\n",
    "print(f\"Using device: {device}\")\n",
    "\n",
    "\n",
    "# Define transformations for the datasets\n",
    "transform = transforms.Compose([\n",
    "    transforms.Resize((300, 30)),  # Resize images to 300*30\n",
    "    transforms.ToTensor(),           # Convert images to PyTorch tensors\n",
    "    transforms.Normalize(            # Normalize with ImageNet mean and std\n",
    "        mean=[0.485, 0.456, 0.406],\n",
    "        std=[0.229, 0.224, 0.225]\n",
    "    )\n",
    "])\n",
    "\n",
    "# Load datasets\n",
    "train_dataset = datasets.ImageFolder(root=\"D:/AI/Weld_Aesthetical_Defects/train\", transform=transform)\n",
    "val_dataset = datasets.ImageFolder(root=\"D:/AI/Weld_Aesthetical_Defects/val\", transform=transform)\n",
    "test_dataset = datasets.ImageFolder(root=\"D:/AI/Weld_Aesthetical_Defects/test\", transform=transform)\n",
    "\n",
    "# Create data loaders\n",
    "train_loader = DataLoader(train_dataset, batch_size=32, shuffle=True)\n",
    "val_loader = DataLoader(val_dataset, batch_size=32, shuffle=False)\n",
    "test_loader = DataLoader(test_dataset, batch_size=32, shuffle=False)\n",
    "\n",
    "# Define the ResNet50 model\n",
    "import torchvision.models as models\n",
    "model = models.resnet50(pretrained=True)\n",
    "\n",
    "# Modify the final fully connected layer to match the number of classes in your dataset\n",
    "num_classes = len(train_dataset.classes)\n",
    "model.fc = nn.Linear(model.fc.in_features, num_classes)\n",
    "\n",
    "# Move the model to the appropriate device (GPU or CPU)\n",
    "model = model.to(device)\n",
    "\n",
    "# Define the loss function and optimizer\n",
    "criterion = nn.CrossEntropyLoss()\n",
    "optimizer = torch.optim.Adam(model.parameters(), lr=0.001)\n",
    "\n",
    "# Training function\n",
    "def train(model, train_loader, val_loader, criterion, optimizer, num_epochs=10):\n",
    "    for epoch in range(num_epochs):\n",
    "        model.train()\n",
    "        running_loss = 0.0\n",
    "        correct = 0\n",
    "        total = 0\n",
    "\n",
    "        # Training loop with tqdm progress bar\n",
    "        train_loop = tqdm(train_loader, desc=f\"Epoch [{epoch+1}/{num_epochs}] Training\",colour='#00ff00')\n",
    "        for images, labels in train_loop:\n",
    "            images, labels = images.to(device), labels.to(device)\n",
    "\n",
    "            # Zero the parameter gradients\n",
    "            optimizer.zero_grad()\n",
    "\n",
    "            # Forward pass\n",
    "            outputs = model(images)\n",
    "            loss = criterion(outputs, labels)\n",
    "\n",
    "            # Backward pass and optimize\n",
    "            loss.backward()\n",
    "            optimizer.step()\n",
    "\n",
    "            # Calculate statistics\n",
    "            running_loss += loss.item()\n",
    "            _, predicted = outputs.max(1)\n",
    "            total += labels.size(0)\n",
    "            correct += predicted.eq(labels).sum().item()\n",
    "\n",
    "            # Update progress bar\n",
    "            train_loop.set_postfix(loss=loss.item(), accuracy=(100. * correct / total))\n",
    "\n",
    "        # Print training statistics\n",
    "        train_loss = running_loss / len(train_loader)\n",
    "        train_acc = 100. * correct / total\n",
    "        print(f\"Epoch [{epoch+1}/{num_epochs}], Train Loss: {train_loss:.4f}, Train Acc: {train_acc:.2f}%\")\n",
    "\n",
    "        # Validation loop with tqdm progress bar\n",
    "        model.eval()\n",
    "        val_loss = 0.0\n",
    "        correct = 0\n",
    "        total = 0\n",
    "\n",
    "        val_loop = tqdm(val_loader, desc=f\"Epoch [{epoch+1}/{num_epochs}] Validation\",colour='#ffff00')\n",
    "        with torch.no_grad():\n",
    "            for images, labels in val_loop:\n",
    "                images, labels = images.to(device), labels.to(device)\n",
    "                outputs = model(images)\n",
    "                loss = criterion(outputs, labels)\n",
    "\n",
    "                val_loss += loss.item()\n",
    "                _, predicted = outputs.max(1)\n",
    "                total += labels.size(0)\n",
    "                correct += predicted.eq(labels).sum().item()\n",
    "\n",
    "                # Update progress bar\n",
    "                val_loop.set_postfix(loss=loss.item(), accuracy=(100. * correct / total))\n",
    "\n",
    "        # Print validation statistics\n",
    "        val_loss = val_loss / len(val_loader)\n",
    "        val_acc = 100. * correct / total\n",
    "        print(f\"Epoch [{epoch+1}/{num_epochs}], Val Loss: {val_loss:.4f}, Val Acc: {val_acc:.2f}%\")\n",
    "\n",
    "    print(\"Training complete.\")\n",
    "\n",
    "# Train the model\n",
    "train(model, train_loader, val_loader, criterion, optimizer, num_epochs=10)\n",
    "\n",
    "# Save the trained model\n",
    "torch.save(model.state_dict(), \"resnet50_weld_defects_model.pth\")\n",
    "print(\"Model saved to resnet50_weld_defects_model.pth\")\n",
    "\n",
    "# Test the model\n",
    "def test(model, test_loader, criterion):\n",
    "    model.eval()\n",
    "    test_loss = 0.0\n",
    "    correct = 0\n",
    "    total = 0\n",
    "\n",
    "    # Test loop with tqdm progress bar\n",
    "    test_loop = tqdm(test_loader, desc=\"Testing\", colour='#ff0000')\n",
    "    with torch.no_grad():\n",
    "        for images, labels in test_loop:\n",
    "            images, labels = images.to(device), labels.to(device)\n",
    "            outputs = model(images)\n",
    "            loss = criterion(outputs, labels)\n",
    "\n",
    "            test_loss += loss.item()\n",
    "            _, predicted = outputs.max(1)\n",
    "            total += labels.size(0)\n",
    "            correct += predicted.eq(labels).sum().item()\n",
    "\n",
    "            # Update progress bar\n",
    "            test_loop.set_postfix(loss=loss.item(), accuracy=(100. * correct / total))\n",
    "\n",
    "    # Print test statistics\n",
    "    test_loss = test_loss / len(test_loader)\n",
    "    test_acc = 100. * correct / total\n",
    "    print(f\"Test Loss: {test_loss:.4f}, Test Acc: {test_acc:.2f}%\")\n",
    "\n",
    "# Evaluate the model on the test set\n",
    "test(model, test_loader, criterion)"
   ]
  }
 ],
 "metadata": {
  "kernelspec": {
   "display_name": "Python 3",
   "language": "python",
   "name": "python3"
  },
  "language_info": {
   "codemirror_mode": {
    "name": "ipython",
    "version": 3
   },
   "file_extension": ".py",
   "mimetype": "text/x-python",
   "name": "python",
   "nbconvert_exporter": "python",
   "pygments_lexer": "ipython3",
   "version": "3.12.4"
  }
 },
 "nbformat": 4,
 "nbformat_minor": 2
}
